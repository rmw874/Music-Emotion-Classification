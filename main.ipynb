{
 "cells": [
  {
   "cell_type": "code",
   "execution_count": 2,
   "metadata": {},
   "outputs": [],
   "source": [
    "#importing packages used for data (audio) analysis and processing\n",
    "import numpy as np\n",
    "import pandas as pd\n",
    "import librosa\n",
    "import librosa.display \n",
    "import matplotlib.pyplot as plt\n",
    "import warnings\n",
    "import os"
   ]
  },
  {
   "cell_type": "code",
   "execution_count": 3,
   "metadata": {},
   "outputs": [],
   "source": [
    "#removing warnings that I don't need to see\n",
    "warnings.filterwarnings('ignore')\n",
    "warnings.simplefilter('ignore')"
   ]
  },
  {
   "cell_type": "code",
   "execution_count": 7,
   "metadata": {},
   "outputs": [],
   "source": [
    "#i have my data in a subfolder called data\n",
    "data_dir = \"data\"\n",
    "\n",
    "def create_dataframe(dir):\n",
    "    target = []\n",
    "    audio = []\n",
    "    for root, dirs, files in os.walk(dir):\n",
    "        for name in files:\n",
    "            if name.endswith((\".mp3\", \".wav\")):\n",
    "                target.append(os.path.basename(root))\n",
    "                audio.append(os.path.join(root, name))\n",
    "    df = pd.DataFrame(columns=[\"audio\", \"target\"])\n",
    "    df[\"audio\"] = audio\n",
    "    df[\"target\"] = target\n",
    "    return df\n",
    "\n",
    "df = create_dataframe(data_dir)"
   ]
  },
  {
   "cell_type": "code",
   "execution_count": 9,
   "metadata": {},
   "outputs": [
    {
     "data": {
      "text/plain": [
       "aggressive    500\n",
       "dramatic      500\n",
       "happy         500\n",
       "romantic      500\n",
       "sad           500\n",
       "Name: target, dtype: int64"
      ]
     },
     "execution_count": 9,
     "metadata": {},
     "output_type": "execute_result"
    }
   ],
   "source": [
    "df[\"target\"].value_counts()"
   ]
  }
 ],
 "metadata": {
  "kernelspec": {
   "display_name": "base",
   "language": "python",
   "name": "python3"
  },
  "language_info": {
   "codemirror_mode": {
    "name": "ipython",
    "version": 3
   },
   "file_extension": ".py",
   "mimetype": "text/x-python",
   "name": "python",
   "nbconvert_exporter": "python",
   "pygments_lexer": "ipython3",
   "version": "3.10.5"
  },
  "orig_nbformat": 4,
  "vscode": {
   "interpreter": {
    "hash": "842315827eda35ae06da62ed5d0e6c5405348e5b3815ba780bf229fe296feba5"
   }
  }
 },
 "nbformat": 4,
 "nbformat_minor": 2
}
